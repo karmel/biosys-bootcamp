{
 "metadata": {
  "name": "Untitled0"
 },
 "nbformat": 3,
 "nbformat_minor": 0,
 "worksheets": [
  {
   "cells": [
    {
     "cell_type": "code",
     "collapsed": false,
     "input": [
      "import pandas as pd\n",
      "import itertools\n",
      "import numpy\n",
      "pd.set_option('display.width', 10000)"
     ],
     "language": "python",
     "metadata": {},
     "outputs": [],
     "prompt_number": 105
    },
    {
     "cell_type": "code",
     "collapsed": false,
     "input": [
      "#New Data posted by Karmel\n",
      "expressiondata = pd.read_csv('C:\\Users\\Justin\\Documents\\GitHub\\\\biosys-bootcamp\\Homework\\python-pandas-hw\\data_set_HL60_U937_NB4_Jurkat.txt', sep='\\t')\n",
      "cols = list(expressiondata.columns[1:])\n",
      "cols[-1]='Jurkat_24_hrs'\n",
      "cols.append('call.16')\n",
      "expressiondata.columns=cols"
     ],
     "language": "python",
     "metadata": {},
     "outputs": [],
     "prompt_number": 50
    },
    {
     "cell_type": "code",
     "collapsed": false,
     "input": [
      "expressiondata.columns"
     ],
     "language": "python",
     "metadata": {},
     "outputs": [
      {
       "output_type": "pyout",
       "prompt_number": 53,
       "text": [
        "Index([Gene Accession Number, HL60_0_hrs, call, HL60_0.5_hrs, call.1, HL60_4_hrs, call.2, HL60_24_hrs, call.3, U937_0_hrs, call.4, U937_0.5_hrs, call.5, U937_4_hrs, call.6, U937_24_hrs, call.7, NB4_0_hrs, call.8, NB4_5.5_hrs, call.9, NB4_24_hrs, call.10, NB4_48_hrs, call.11, NB4_72_hrs, call.12, Jurkat_0_hrs, call.13, Jurkat_0.5_hrs, call.14, Jurkat_4_hrs, call.15, Jurkat_24_hrs, call.16], dtype=object)"
       ]
      }
     ],
     "prompt_number": 53
    },
    {
     "cell_type": "code",
     "collapsed": false,
     "input": [
      "print 'A. How many distinct genes are represented in the data set?'\n",
      "print len(set(expressiondata.index))"
     ],
     "language": "python",
     "metadata": {},
     "outputs": [
      {
       "output_type": "stream",
       "stream": "stdout",
       "text": [
        "A. How many distinct genes are represented in the data set?\n",
        "5001\n"
       ]
      }
     ],
     "prompt_number": 64
    },
    {
     "cell_type": "code",
     "collapsed": false,
     "input": [
      "print 'B. Which two time points are the most highly correlated for each cell type?'\n",
      "HL60 = ['HL60_0_hrs', 'HL60_0.5_hrs', 'HL60_4_hrs', 'HL60_24_hrs']\n",
      "U937 = ['U937_0_hrs', 'U937_0.5_hrs', 'U937_4_hrs', 'U937_24_hrs']\n",
      "NB4 = ['NB4_0_hrs', 'NB4_5.5_hrs', 'NB4_24_hrs', 'NB4_48_hrs', 'NB4_72_hrs']\n",
      "Jurkat = ['Jurkat_0_hrs', 'Jurkat_0.5_hrs', 'Jurkat_4_hrs', 'Jurkat_24_hrs']\n",
      "\n",
      "cellLines = [HL60, U937, NB4, Jurkat]\n",
      "for cellLine in cellLines:\n",
      "    correlations=[]\n",
      "    for timepoints in list(itertools.combinations(cellLine, 2)):\n",
      "        correlations.append((timepoints[0], timepoints[1], abs(mean(expressiondata[timepoints[1]]-expressiondata[timepoints[0]]))))\n",
      "    print sorted(correlations, key=lambda x: x[2])[0]"
     ],
     "language": "python",
     "metadata": {},
     "outputs": [
      {
       "output_type": "stream",
       "stream": "stdout",
       "text": [
        "B. Which two time points are the most highly correlated for each cell type?\n",
        "('HL60_0.5_hrs', 'HL60_4_hrs', 1.6007746576289943)\n",
        "('U937_0.5_hrs', 'U937_4_hrs', 0.97371697330197815)\n",
        "('NB4_5.5_hrs', 'NB4_24_hrs', 2.011066537557062)\n",
        "('Jurkat_4_hrs', 'Jurkat_24_hrs', 0.44611979526905521)\n"
       ]
      }
     ],
     "prompt_number": 100
    },
    {
     "cell_type": "code",
     "collapsed": false,
     "input": [
      "print 'C. Which two cell types are the most similar?'\n",
      "'''\n",
      "Comparing differentiated cell lines at 24 hours\n",
      "'''\n",
      "cellLines = ['HL60_24_hrs', 'U937_24_hrs', 'NB4_24_hrs', 'Jurkat_24_hrs']\n",
      "\n",
      "comparisons = []\n",
      "for combo in list(itertools.combinations(cellLines, 2)):\n",
      "    comparisons.append((combo[0], combo[1], abs(mean(expressiondata[combo[1]]-expressiondata[combo[0]]))))\n",
      "for comparison in sorted(comparisons, key=lambda x: x[2]):\n",
      "    print comparison"
     ],
     "language": "python",
     "metadata": {},
     "outputs": [
      {
       "output_type": "stream",
       "stream": "stdout",
       "text": [
        "C. Which two cell types are the most similar?\n",
        "('U937_24_hrs', 'NB4_24_hrs', 5.5040807857241667)\n",
        "('HL60_24_hrs', 'Jurkat_24_hrs', 10.067920874256467)\n",
        "('NB4_24_hrs', 'Jurkat_24_hrs', 22.139991700096832)\n",
        "('U937_24_hrs', 'Jurkat_24_hrs', 27.644072485820999)\n",
        "('HL60_24_hrs', 'NB4_24_hrs', 32.207912574353301)\n",
        "('HL60_24_hrs', 'U937_24_hrs', 37.711993360077464)\n"
       ]
      }
     ],
     "prompt_number": 104
    },
    {
     "cell_type": "code",
     "collapsed": false,
     "input": [
      "print 'D. It is often useful to know which genes change very little across samples for the sake of normalization or calibration. Based on this data set, what are ten good candidates for genes to use to calibrate machinery or analyses across all these samples?'\n",
      "changes = []\n",
      "for i in range(len(expressiondata.index)):\n",
      "    HL60expression = [expressiondata.ix[i]['HL60_0_hrs'], expressiondata.ix[i]['HL60_0.5_hrs'], expressiondata.ix[i]['HL60_4_hrs'], expressiondata.ix[i]['HL60_24_hrs']]\n",
      "    U937expression = [expressiondata.ix[i]['U937_0_hrs'], expressiondata.ix[i]['U937_0.5_hrs'], expressiondata.ix[i]['U937_4_hrs'], expressiondata.ix[i]['U937_24_hrs']]\n",
      "    NB4expression = [expressiondata.ix[i]['NB4_0_hrs'], expressiondata.ix[i]['NB4_5.5_hrs'], expressiondata.ix[i]['NB4_24_hrs'], expressiondata.ix[i]['NB4_48_hrs'], expressiondata.ix[i]['NB4_72_hrs']]\n",
      "    Jurkatexpression = [expressiondata.ix[i]['Jurkat_0_hrs'], expressiondata.ix[i]['Jurkat_0.5_hrs'], expressiondata.ix[i]['Jurkat_4_hrs'], expressiondata.ix[i]['Jurkat_24_hrs']]\n",
      "    \n",
      "    HL60std = numpy.std(numpy.array(HL60expression))\n",
      "    U937std = numpy.std(numpy.array(U937expression))\n",
      "    NB4std = numpy.std(numpy.array(NB4expression))\n",
      "    Jurkatstd = numpy.std(numpy.array(Jurkatexpression))\n",
      "    changes.append((i, mean((HL60std, U937std, NB4std, Jurkatstd))))\n",
      "\n",
      "for item in list(sorted(changes, key=lambda x: x[1])[:10]):\n",
      "    print expressiondata.index[item[0]], '---Avg Standard Deviations: ',item[1]\n",
      "\n",
      "    "
     ],
     "language": "python",
     "metadata": {},
     "outputs": [
      {
       "output_type": "stream",
       "stream": "stdout",
       "text": [
        "D. It is often useful to know which genes change very little across samples for the sake of normalization or calibration. Based on this data set, what are ten good candidates for genes to use to calibrate machinery or analyses across all these samples?\n",
        "No cluster in current Unigene and no Genbank entry for R89278 (qualifier R89278_i)"
       ]
      },
      {
       "output_type": "stream",
       "stream": "stdout",
       "text": [
        " ---Avg Standard Deviations:  1.32476597139\n",
        "PLP Proteolipid protein (Pelizaeus-Merzbacher disease, spastic paraplegia 2, uncomplicated) ---Avg Standard Deviations:  1.39334427404\n",
        "ESTs ---Avg Standard Deviations:  1.4219938651\n",
        "No cluster in current Unigene and no Genbank entry for M95586 (qualifier M95586_r_i) ---Avg Standard Deviations:  1.45640000031\n",
        "PCCB Propionyl Coenzyme A carboxylase, beta polypeptide ---Avg Standard Deviations:  1.46305564367\n",
        "ESTs, Highly  similar to HLA CLASS I HISTOCOMPATIBILITY ANTIGEN, A-32(AW-19) ALPHA CHAIN PRECURSOR [Homo sapiens] ---Avg Standard Deviations:  1.46798172252\n",
        "ESTs, Highly  similar to EUKARYOTIC INITIATION FACTOR 1A [Homo sapiens] ---Avg Standard Deviations:  1.52280484311\n",
        "GRIA2 Glutamate receptor, ionotropic, AMPA 2 ---Avg Standard Deviations:  1.56584218098\n",
        "ESTs, Highly  similar to CELL SURFACE GLYCOPROTEIN A15 [Homo sapiens] ---Avg Standard Deviations:  1.57767209044\n",
        "ADRENODOXIN PRECURSOR ---Avg Standard Deviations:  1.57954281063\n"
       ]
      }
     ],
     "prompt_number": 107
    },
    {
     "cell_type": "code",
     "collapsed": true,
     "input": [
      "print 'E. Do any genes show two-fold higher expression at 24 hours versus 0 hours for all four cell types? If so, which ones?'\n",
      "highexpressiongenes = []\n",
      "for i in range(len(expressiondata.index)):\n",
      "    cellexpressions=[0,0,0,0]\n",
      "    diff1 = float(expressiondata.ix[i]['HL60_24_hrs']) / float(expressiondata.ix[i]['HL60_0_hrs'])\n",
      "    if (diff1 > 2) or (diff1 < 0.5): \n",
      "        cellexpressions[0]=1\n",
      "    diff2 = float(expressiondata.ix[i]['U937_24_hrs']) / float(expressiondata.ix[i]['U937_0_hrs'])\n",
      "    if (diff2 > 2) or (diff2 < 0.5): \n",
      "        cellexpressions[1]=1\n",
      "    diff3 = float(expressiondata.ix[i]['NB4_24_hrs']) / float(expressiondata.ix[i]['NB4_0_hrs'])\n",
      "    if (diff3 > 2) or (diff3 < 0.5): \n",
      "        cellexpressions[2]=1\n",
      "    diff4 = float(expressiondata.ix[i]['Jurkat_24_hrs']) / float(expressiondata.ix[i]['Jurkat_0_hrs'])\n",
      "    if (diff4 > 2) or (diff4 < 0.5): \n",
      "        cellexpressions[3]=1\n",
      "    if sum(cellexpressions)==4:\n",
      "        highexpressiongenes.append(expressiondata.index[i])\n",
      "\n",
      "for gene in set(highexpressiongenes): print gene"
     ],
     "language": "python",
     "metadata": {},
     "outputs": [
      {
       "ename": "ZeroDivisionError",
       "evalue": "float division by zero",
       "output_type": "pyerr",
       "traceback": [
        "\u001b[1;31m---------------------------------------------------------------------------\u001b[0m\n\u001b[1;31mZeroDivisionError\u001b[0m                         Traceback (most recent call last)",
        "\u001b[1;32m<ipython-input-62-1bf2f53d32f6>\u001b[0m in \u001b[0;36m<module>\u001b[1;34m()\u001b[0m\n\u001b[0;32m      9\u001b[0m     \u001b[1;32mif\u001b[0m \u001b[1;33m(\u001b[0m\u001b[0mdiff2\u001b[0m \u001b[1;33m>\u001b[0m \u001b[1;36m2\u001b[0m\u001b[1;33m)\u001b[0m \u001b[1;32mor\u001b[0m \u001b[1;33m(\u001b[0m\u001b[0mdiff2\u001b[0m \u001b[1;33m<\u001b[0m \u001b[1;36m0.5\u001b[0m\u001b[1;33m)\u001b[0m\u001b[1;33m:\u001b[0m \u001b[1;31m#Cell line U937 at 24 hours > 2*U937 at 0 hours\u001b[0m\u001b[1;33m\u001b[0m\u001b[0m\n\u001b[0;32m     10\u001b[0m         \u001b[0mcellexpressions\u001b[0m\u001b[1;33m[\u001b[0m\u001b[1;36m1\u001b[0m\u001b[1;33m]\u001b[0m\u001b[1;33m=\u001b[0m\u001b[1;36m1\u001b[0m\u001b[1;33m\u001b[0m\u001b[0m\n\u001b[1;32m---> 11\u001b[1;33m     \u001b[0mdiff3\u001b[0m \u001b[1;33m=\u001b[0m \u001b[0mfloat\u001b[0m\u001b[1;33m(\u001b[0m\u001b[0mexpressiondata\u001b[0m\u001b[1;33m.\u001b[0m\u001b[0mix\u001b[0m\u001b[1;33m[\u001b[0m\u001b[0mi\u001b[0m\u001b[1;33m]\u001b[0m\u001b[1;33m[\u001b[0m\u001b[1;34m'NB4_24_hrs'\u001b[0m\u001b[1;33m]\u001b[0m\u001b[1;33m)\u001b[0m \u001b[1;33m/\u001b[0m \u001b[0mfloat\u001b[0m\u001b[1;33m(\u001b[0m\u001b[0mexpressiondata\u001b[0m\u001b[1;33m.\u001b[0m\u001b[0mix\u001b[0m\u001b[1;33m[\u001b[0m\u001b[0mi\u001b[0m\u001b[1;33m]\u001b[0m\u001b[1;33m[\u001b[0m\u001b[1;34m'NB4_0_hrs'\u001b[0m\u001b[1;33m]\u001b[0m\u001b[1;33m)\u001b[0m\u001b[1;33m\u001b[0m\u001b[0m\n\u001b[0m\u001b[0;32m     12\u001b[0m     \u001b[1;32mif\u001b[0m \u001b[1;33m(\u001b[0m\u001b[0mdiff3\u001b[0m \u001b[1;33m>\u001b[0m \u001b[1;36m2\u001b[0m\u001b[1;33m)\u001b[0m \u001b[1;32mor\u001b[0m \u001b[1;33m(\u001b[0m\u001b[0mdiff3\u001b[0m \u001b[1;33m<\u001b[0m \u001b[1;36m0.5\u001b[0m\u001b[1;33m)\u001b[0m\u001b[1;33m:\u001b[0m \u001b[1;31m#Cell line NB4 at 24 hours > 2*NB4 at 0 hours\u001b[0m\u001b[1;33m\u001b[0m\u001b[0m\n\u001b[0;32m     13\u001b[0m         \u001b[0mcellexpressions\u001b[0m\u001b[1;33m[\u001b[0m\u001b[1;36m2\u001b[0m\u001b[1;33m]\u001b[0m\u001b[1;33m=\u001b[0m\u001b[1;36m1\u001b[0m\u001b[1;33m\u001b[0m\u001b[0m\n",
        "\u001b[1;31mZeroDivisionError\u001b[0m: float division by zero"
       ]
      },
      {
       "output_type": "stream",
       "stream": "stdout",
       "text": [
        "E. Do any genes show two-fold higher expression at 24 hours versus 0 hours for all four cell types? If so, which ones?\n"
       ]
      }
     ],
     "prompt_number": 62
    },
    {
     "cell_type": "code",
     "collapsed": false,
     "input": [
      "print 'F. Which genes are differentially regulated (at least two-fold higher or lower) in HL60 cells as compared to U937 cells at 0 hours?'\n",
      "diffregulatedgenes = []\n",
      "for i in range(len(expressiondata.index)):"
     ],
     "language": "python",
     "metadata": {},
     "outputs": []
    },
    {
     "cell_type": "code",
     "collapsed": false,
     "input": [
      "print 'G. Take the list of Gene Accession codes from (F), and run them through the DAVID ontology analyzer. (at http://david.abcc.ncifcrf.gov/summary.jsp. These are GenBank Accession codes.) Are there any enriched ontology terms?'"
     ],
     "language": "python",
     "metadata": {},
     "outputs": []
    }
   ],
   "metadata": {}
  }
 ]
}